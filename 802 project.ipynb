{
 "cells": [
  {
   "cell_type": "markdown",
   "metadata": {},
   "source": [
    "# CSE 802 Project: Genre recognition using FMA\n",
    "Kevin McMahon"
   ]
  },
  {
   "cell_type": "code",
   "execution_count": 1,
   "metadata": {},
   "outputs": [],
   "source": [
    "%matplotlib inline\n",
    "\n",
    "import numpy as np\n",
    "import pandas as pd\n",
    "import matplotlib.pyplot as plt"
   ]
  },
  {
   "cell_type": "code",
   "execution_count": 2,
   "metadata": {},
   "outputs": [
    {
     "name": "stderr",
     "output_type": "stream",
     "text": [
      "C:\\Users\\Kevin\\Anaconda3\\lib\\site-packages\\IPython\\core\\interactiveshell.py:3020: DtypeWarning: Columns (0,1,5,6,8,12,18,20,21,22,24,33,34,38,39,44,47,49) have mixed types. Specify dtype option on import or set low_memory=False.\n",
      "  interactivity=interactivity, compiler=compiler, result=result)\n",
      "C:\\Users\\Kevin\\Anaconda3\\lib\\site-packages\\IPython\\core\\interactiveshell.py:3020: DtypeWarning: Columns (0,1,2,3,4,5,6,7,8,11,13,16,17,18,19,20,21,22,23,24,25,26,27,28,29,30,31,32,33,34,35,36,37,38,39,40,41,42,43,44,45,46,47,48,49,50,51,52,53,54,55,56,57,58,59,60,61,62,63,64,65,66,67,68,69,70,71,72,73,74,75,76,77,78,79,80,81,82,83,84,85,86,87,88,89,90,91,92,93,94,95,96,97,98,99,100,101,102,103,104,105,106,107,108,109,110,111,112,113,114,115,116,117,118,119,120,121,122,123,124,125,126,127,128,129,130,131,132,133,134,135,136,137,138,139,140,141,142,143,144,145,146,147,148,149,150,151,152,153,154,155,156,157,158,159,160,161,162,163,164,165,166,167,168,169,170,171,172,173,174,175,176,177,178,179,180,181,182,183,184,185,186,187,188,189,190,191,192,193,194,195,196,197,198,199,200,201,202,203,204,205,206,207,208,209,210,211,212,213,214,215,216,217,218,219,220,221,222,223,224,225,226,227,228,229,230,231,232,233,234,235,236,237,238,239,240,241,242,243,244,245,246,247,248,249) have mixed types. Specify dtype option on import or set low_memory=False.\n",
      "  interactivity=interactivity, compiler=compiler, result=result)\n"
     ]
    }
   ],
   "source": [
    "tracks = pd.read_csv('fma_metadata/tracks.csv')\n",
    "genres = pd.read_csv('fma_metadata/genres.csv')\n",
    "echonest = pd.read_csv('fma_metadata/echonest.csv')"
   ]
  },
  {
   "cell_type": "code",
   "execution_count": 3,
   "metadata": {},
   "outputs": [
    {
     "data": {
      "text/plain": [
       "((13132, 250), (163, 5), (106576, 53))"
      ]
     },
     "execution_count": 3,
     "metadata": {},
     "output_type": "execute_result"
    }
   ],
   "source": [
    "echonest.shape, genres.shape, tracks.shape"
   ]
  },
  {
   "cell_type": "markdown",
   "metadata": {},
   "source": [
    "# Genres\n",
    "Create DataFrame consisting of #tracks and genre_id for the 8 most popular top level genres"
   ]
  },
  {
   "cell_type": "code",
   "execution_count": 4,
   "metadata": {
    "scrolled": true
   },
   "outputs": [
    {
     "data": {
      "text/html": [
       "<div>\n",
       "<style scoped>\n",
       "    .dataframe tbody tr th:only-of-type {\n",
       "        vertical-align: middle;\n",
       "    }\n",
       "\n",
       "    .dataframe tbody tr th {\n",
       "        vertical-align: top;\n",
       "    }\n",
       "\n",
       "    .dataframe thead th {\n",
       "        text-align: right;\n",
       "    }\n",
       "</style>\n",
       "<table border=\"1\" class=\"dataframe\">\n",
       "  <thead>\n",
       "    <tr style=\"text-align: right;\">\n",
       "      <th></th>\n",
       "      <th>genre_id</th>\n",
       "      <th>#tracks</th>\n",
       "      <th>parent</th>\n",
       "      <th>title</th>\n",
       "      <th>top_level</th>\n",
       "    </tr>\n",
       "  </thead>\n",
       "  <tbody>\n",
       "    <tr>\n",
       "      <th>0</th>\n",
       "      <td>1</td>\n",
       "      <td>8693</td>\n",
       "      <td>38</td>\n",
       "      <td>Avant-Garde</td>\n",
       "      <td>38</td>\n",
       "    </tr>\n",
       "    <tr>\n",
       "      <th>1</th>\n",
       "      <td>2</td>\n",
       "      <td>5271</td>\n",
       "      <td>0</td>\n",
       "      <td>International</td>\n",
       "      <td>2</td>\n",
       "    </tr>\n",
       "    <tr>\n",
       "      <th>2</th>\n",
       "      <td>3</td>\n",
       "      <td>1752</td>\n",
       "      <td>0</td>\n",
       "      <td>Blues</td>\n",
       "      <td>3</td>\n",
       "    </tr>\n",
       "    <tr>\n",
       "      <th>3</th>\n",
       "      <td>4</td>\n",
       "      <td>4126</td>\n",
       "      <td>0</td>\n",
       "      <td>Jazz</td>\n",
       "      <td>4</td>\n",
       "    </tr>\n",
       "    <tr>\n",
       "      <th>4</th>\n",
       "      <td>5</td>\n",
       "      <td>4106</td>\n",
       "      <td>0</td>\n",
       "      <td>Classical</td>\n",
       "      <td>5</td>\n",
       "    </tr>\n",
       "  </tbody>\n",
       "</table>\n",
       "</div>"
      ],
      "text/plain": [
       "   genre_id  #tracks  parent          title  top_level\n",
       "0         1     8693      38    Avant-Garde         38\n",
       "1         2     5271       0  International          2\n",
       "2         3     1752       0          Blues          3\n",
       "3         4     4126       0           Jazz          4\n",
       "4         5     4106       0      Classical          5"
      ]
     },
     "execution_count": 4,
     "metadata": {},
     "output_type": "execute_result"
    }
   ],
   "source": [
    "genres.head()"
   ]
  },
  {
   "cell_type": "code",
   "execution_count": 5,
   "metadata": {
    "scrolled": false
   },
   "outputs": [
    {
     "name": "stdout",
     "output_type": "stream",
     "text": [
      "8 Most popular top-level genres\n"
     ]
    },
    {
     "data": {
      "text/html": [
       "<div>\n",
       "<style scoped>\n",
       "    .dataframe tbody tr th:only-of-type {\n",
       "        vertical-align: middle;\n",
       "    }\n",
       "\n",
       "    .dataframe tbody tr th {\n",
       "        vertical-align: top;\n",
       "    }\n",
       "\n",
       "    .dataframe thead th {\n",
       "        text-align: right;\n",
       "    }\n",
       "</style>\n",
       "<table border=\"1\" class=\"dataframe\">\n",
       "  <thead>\n",
       "    <tr style=\"text-align: right;\">\n",
       "      <th></th>\n",
       "      <th>#tracks</th>\n",
       "      <th>title</th>\n",
       "    </tr>\n",
       "    <tr>\n",
       "      <th>Genre id</th>\n",
       "      <th></th>\n",
       "      <th></th>\n",
       "    </tr>\n",
       "  </thead>\n",
       "  <tbody>\n",
       "    <tr>\n",
       "      <th>38</th>\n",
       "      <td>38154</td>\n",
       "      <td>Experimental</td>\n",
       "    </tr>\n",
       "    <tr>\n",
       "      <th>15</th>\n",
       "      <td>34413</td>\n",
       "      <td>Electronic</td>\n",
       "    </tr>\n",
       "    <tr>\n",
       "      <th>12</th>\n",
       "      <td>32923</td>\n",
       "      <td>Rock</td>\n",
       "    </tr>\n",
       "    <tr>\n",
       "      <th>1235</th>\n",
       "      <td>14938</td>\n",
       "      <td>Instrumental</td>\n",
       "    </tr>\n",
       "    <tr>\n",
       "      <th>10</th>\n",
       "      <td>13845</td>\n",
       "      <td>Pop</td>\n",
       "    </tr>\n",
       "    <tr>\n",
       "      <th>17</th>\n",
       "      <td>12706</td>\n",
       "      <td>Folk</td>\n",
       "    </tr>\n",
       "    <tr>\n",
       "      <th>21</th>\n",
       "      <td>8389</td>\n",
       "      <td>Hip-Hop</td>\n",
       "    </tr>\n",
       "    <tr>\n",
       "      <th>2</th>\n",
       "      <td>5271</td>\n",
       "      <td>International</td>\n",
       "    </tr>\n",
       "  </tbody>\n",
       "</table>\n",
       "</div>"
      ],
      "text/plain": [
       "          #tracks          title\n",
       "Genre id                        \n",
       "38          38154   Experimental\n",
       "15          34413     Electronic\n",
       "12          32923           Rock\n",
       "1235        14938   Instrumental\n",
       "10          13845            Pop\n",
       "17          12706           Folk\n",
       "21           8389        Hip-Hop\n",
       "2            5271  International"
      ]
     },
     "execution_count": 5,
     "metadata": {},
     "output_type": "execute_result"
    }
   ],
   "source": [
    "genres = genres.loc[genres['parent'] == 0]\n",
    "genres = genres.rename(columns={genres.columns[0]: 'Genre id'})\n",
    "genres.index = genres['Genre id']\n",
    "base_genres = genres.drop(columns=['Genre id', 'parent', 'top_level'])\n",
    "base_genres = base_genres.sort_values('#tracks', ascending = False)[:8]\n",
    "print(f'{8} Most popular top-level genres')\n",
    "base_genres"
   ]
  },
  {
   "cell_type": "markdown",
   "metadata": {},
   "source": [
    "# Tracks\n",
    "1. Remove first 2 rows of header info\n",
    "2. Change 'track.8' genre tags from string to list\n",
    "3. Index the resulting dataframe by track number"
   ]
  },
  {
   "cell_type": "code",
   "execution_count": 6,
   "metadata": {},
   "outputs": [],
   "source": [
    "tracks = tracks[2:]\n",
    "tracks['track.8'] = tracks['track.8'].transform(lambda x: x.strip('[]').replace(' ','').split(','))"
   ]
  },
  {
   "cell_type": "markdown",
   "metadata": {},
   "source": [
    "3. Make dataframe index the track number"
   ]
  },
  {
   "cell_type": "code",
   "execution_count": 7,
   "metadata": {},
   "outputs": [
    {
     "data": {
      "text/html": [
       "<div>\n",
       "<style scoped>\n",
       "    .dataframe tbody tr th:only-of-type {\n",
       "        vertical-align: middle;\n",
       "    }\n",
       "\n",
       "    .dataframe tbody tr th {\n",
       "        vertical-align: top;\n",
       "    }\n",
       "\n",
       "    .dataframe thead th {\n",
       "        text-align: right;\n",
       "    }\n",
       "</style>\n",
       "<table border=\"1\" class=\"dataframe\">\n",
       "  <thead>\n",
       "    <tr style=\"text-align: right;\">\n",
       "      <th></th>\n",
       "      <th>album</th>\n",
       "      <th>album.1</th>\n",
       "      <th>album.2</th>\n",
       "      <th>album.3</th>\n",
       "      <th>album.4</th>\n",
       "      <th>album.5</th>\n",
       "      <th>album.6</th>\n",
       "      <th>album.7</th>\n",
       "      <th>album.8</th>\n",
       "      <th>album.9</th>\n",
       "      <th>...</th>\n",
       "      <th>track.10</th>\n",
       "      <th>track.11</th>\n",
       "      <th>track.12</th>\n",
       "      <th>track.13</th>\n",
       "      <th>track.14</th>\n",
       "      <th>track.15</th>\n",
       "      <th>track.16</th>\n",
       "      <th>track.17</th>\n",
       "      <th>track.18</th>\n",
       "      <th>track.19</th>\n",
       "    </tr>\n",
       "    <tr>\n",
       "      <th>Track number</th>\n",
       "      <th></th>\n",
       "      <th></th>\n",
       "      <th></th>\n",
       "      <th></th>\n",
       "      <th></th>\n",
       "      <th></th>\n",
       "      <th></th>\n",
       "      <th></th>\n",
       "      <th></th>\n",
       "      <th></th>\n",
       "      <th></th>\n",
       "      <th></th>\n",
       "      <th></th>\n",
       "      <th></th>\n",
       "      <th></th>\n",
       "      <th></th>\n",
       "      <th></th>\n",
       "      <th></th>\n",
       "      <th></th>\n",
       "      <th></th>\n",
       "      <th></th>\n",
       "    </tr>\n",
       "  </thead>\n",
       "  <tbody>\n",
       "    <tr>\n",
       "      <th>2</th>\n",
       "      <td>0</td>\n",
       "      <td>2008-11-26 01:44:45</td>\n",
       "      <td>2009-01-05 00:00:00</td>\n",
       "      <td>NaN</td>\n",
       "      <td>4</td>\n",
       "      <td>1</td>\n",
       "      <td>&lt;p&gt;&lt;/p&gt;</td>\n",
       "      <td>6073</td>\n",
       "      <td>NaN</td>\n",
       "      <td>[]</td>\n",
       "      <td>...</td>\n",
       "      <td>NaN</td>\n",
       "      <td>4656</td>\n",
       "      <td>en</td>\n",
       "      <td>Attribution-NonCommercial-ShareAlike 3.0 Inter...</td>\n",
       "      <td>1293</td>\n",
       "      <td>NaN</td>\n",
       "      <td>3</td>\n",
       "      <td>NaN</td>\n",
       "      <td>[]</td>\n",
       "      <td>Food</td>\n",
       "    </tr>\n",
       "    <tr>\n",
       "      <th>3</th>\n",
       "      <td>0</td>\n",
       "      <td>2008-11-26 01:44:45</td>\n",
       "      <td>2009-01-05 00:00:00</td>\n",
       "      <td>NaN</td>\n",
       "      <td>4</td>\n",
       "      <td>1</td>\n",
       "      <td>&lt;p&gt;&lt;/p&gt;</td>\n",
       "      <td>6073</td>\n",
       "      <td>NaN</td>\n",
       "      <td>[]</td>\n",
       "      <td>...</td>\n",
       "      <td>NaN</td>\n",
       "      <td>1470</td>\n",
       "      <td>en</td>\n",
       "      <td>Attribution-NonCommercial-ShareAlike 3.0 Inter...</td>\n",
       "      <td>514</td>\n",
       "      <td>NaN</td>\n",
       "      <td>4</td>\n",
       "      <td>NaN</td>\n",
       "      <td>[]</td>\n",
       "      <td>Electric Ave</td>\n",
       "    </tr>\n",
       "    <tr>\n",
       "      <th>5</th>\n",
       "      <td>0</td>\n",
       "      <td>2008-11-26 01:44:45</td>\n",
       "      <td>2009-01-05 00:00:00</td>\n",
       "      <td>NaN</td>\n",
       "      <td>4</td>\n",
       "      <td>1</td>\n",
       "      <td>&lt;p&gt;&lt;/p&gt;</td>\n",
       "      <td>6073</td>\n",
       "      <td>NaN</td>\n",
       "      <td>[]</td>\n",
       "      <td>...</td>\n",
       "      <td>NaN</td>\n",
       "      <td>1933</td>\n",
       "      <td>en</td>\n",
       "      <td>Attribution-NonCommercial-ShareAlike 3.0 Inter...</td>\n",
       "      <td>1151</td>\n",
       "      <td>NaN</td>\n",
       "      <td>6</td>\n",
       "      <td>NaN</td>\n",
       "      <td>[]</td>\n",
       "      <td>This World</td>\n",
       "    </tr>\n",
       "    <tr>\n",
       "      <th>10</th>\n",
       "      <td>0</td>\n",
       "      <td>2008-11-26 01:45:08</td>\n",
       "      <td>2008-02-06 00:00:00</td>\n",
       "      <td>NaN</td>\n",
       "      <td>4</td>\n",
       "      <td>6</td>\n",
       "      <td>NaN</td>\n",
       "      <td>47632</td>\n",
       "      <td>NaN</td>\n",
       "      <td>[]</td>\n",
       "      <td>...</td>\n",
       "      <td>NaN</td>\n",
       "      <td>54881</td>\n",
       "      <td>en</td>\n",
       "      <td>Attribution-NonCommercial-NoDerivatives (aka M...</td>\n",
       "      <td>50135</td>\n",
       "      <td>NaN</td>\n",
       "      <td>1</td>\n",
       "      <td>NaN</td>\n",
       "      <td>[]</td>\n",
       "      <td>Freeway</td>\n",
       "    </tr>\n",
       "    <tr>\n",
       "      <th>20</th>\n",
       "      <td>0</td>\n",
       "      <td>2008-11-26 01:45:05</td>\n",
       "      <td>2009-01-06 00:00:00</td>\n",
       "      <td>NaN</td>\n",
       "      <td>2</td>\n",
       "      <td>4</td>\n",
       "      <td>&lt;p&gt; \"spiritual songs\" from Nicky Cook&lt;/p&gt;</td>\n",
       "      <td>2710</td>\n",
       "      <td>NaN</td>\n",
       "      <td>[]</td>\n",
       "      <td>...</td>\n",
       "      <td>NaN</td>\n",
       "      <td>978</td>\n",
       "      <td>en</td>\n",
       "      <td>Attribution-NonCommercial-NoDerivatives (aka M...</td>\n",
       "      <td>361</td>\n",
       "      <td>NaN</td>\n",
       "      <td>3</td>\n",
       "      <td>NaN</td>\n",
       "      <td>[]</td>\n",
       "      <td>Spiritual Level</td>\n",
       "    </tr>\n",
       "  </tbody>\n",
       "</table>\n",
       "<p>5 rows × 52 columns</p>\n",
       "</div>"
      ],
      "text/plain": [
       "             album              album.1              album.2 album.3 album.4  \\\n",
       "Track number                                                                   \n",
       "2                0  2008-11-26 01:44:45  2009-01-05 00:00:00     NaN       4   \n",
       "3                0  2008-11-26 01:44:45  2009-01-05 00:00:00     NaN       4   \n",
       "5                0  2008-11-26 01:44:45  2009-01-05 00:00:00     NaN       4   \n",
       "10               0  2008-11-26 01:45:08  2008-02-06 00:00:00     NaN       4   \n",
       "20               0  2008-11-26 01:45:05  2009-01-06 00:00:00     NaN       2   \n",
       "\n",
       "             album.5                                    album.6 album.7  \\\n",
       "Track number                                                              \n",
       "2                  1                                    <p></p>    6073   \n",
       "3                  1                                    <p></p>    6073   \n",
       "5                  1                                    <p></p>    6073   \n",
       "10                 6                                        NaN   47632   \n",
       "20                 4  <p> \"spiritual songs\" from Nicky Cook</p>    2710   \n",
       "\n",
       "             album.8 album.9       ...        track.10 track.11 track.12  \\\n",
       "Track number                       ...                                     \n",
       "2                NaN      []       ...             NaN     4656       en   \n",
       "3                NaN      []       ...             NaN     1470       en   \n",
       "5                NaN      []       ...             NaN     1933       en   \n",
       "10               NaN      []       ...             NaN    54881       en   \n",
       "20               NaN      []       ...             NaN      978       en   \n",
       "\n",
       "                                                       track.13 track.14  \\\n",
       "Track number                                                               \n",
       "2             Attribution-NonCommercial-ShareAlike 3.0 Inter...     1293   \n",
       "3             Attribution-NonCommercial-ShareAlike 3.0 Inter...      514   \n",
       "5             Attribution-NonCommercial-ShareAlike 3.0 Inter...     1151   \n",
       "10            Attribution-NonCommercial-NoDerivatives (aka M...    50135   \n",
       "20            Attribution-NonCommercial-NoDerivatives (aka M...      361   \n",
       "\n",
       "             track.15 track.16 track.17 track.18         track.19  \n",
       "Track number                                                       \n",
       "2                 NaN        3      NaN       []             Food  \n",
       "3                 NaN        4      NaN       []     Electric Ave  \n",
       "5                 NaN        6      NaN       []       This World  \n",
       "10                NaN        1      NaN       []          Freeway  \n",
       "20                NaN        3      NaN       []  Spiritual Level  \n",
       "\n",
       "[5 rows x 52 columns]"
      ]
     },
     "execution_count": 7,
     "metadata": {},
     "output_type": "execute_result"
    }
   ],
   "source": [
    "tracks = tracks.rename(columns={tracks.columns[0]: 'Track number'})\n",
    "tracks.index = tracks['Track number']\n",
    "tracks = tracks.drop(columns=['Track number'])\n",
    "tracks.head()"
   ]
  },
  {
   "cell_type": "markdown",
   "metadata": {},
   "source": [
    "# Echonest\n",
    "1. Eliminate first 3 rows of headers\n",
    "2. Remove features from echonest that are NaN or string (artist, release date, etc)\n",
    "3. Index the resulting dataframe by track number"
   ]
  },
  {
   "cell_type": "code",
   "execution_count": 8,
   "metadata": {
    "scrolled": true
   },
   "outputs": [
    {
     "data": {
      "text/html": [
       "<div>\n",
       "<style scoped>\n",
       "    .dataframe tbody tr th:only-of-type {\n",
       "        vertical-align: middle;\n",
       "    }\n",
       "\n",
       "    .dataframe tbody tr th {\n",
       "        vertical-align: top;\n",
       "    }\n",
       "\n",
       "    .dataframe thead th {\n",
       "        text-align: right;\n",
       "    }\n",
       "</style>\n",
       "<table border=\"1\" class=\"dataframe\">\n",
       "  <thead>\n",
       "    <tr style=\"text-align: right;\">\n",
       "      <th></th>\n",
       "      <th>echonest</th>\n",
       "      <th>echonest.1</th>\n",
       "      <th>echonest.2</th>\n",
       "      <th>echonest.3</th>\n",
       "      <th>echonest.4</th>\n",
       "      <th>echonest.5</th>\n",
       "      <th>echonest.6</th>\n",
       "      <th>echonest.7</th>\n",
       "      <th>echonest.20</th>\n",
       "      <th>echonest.21</th>\n",
       "      <th>...</th>\n",
       "      <th>echonest.239</th>\n",
       "      <th>echonest.240</th>\n",
       "      <th>echonest.241</th>\n",
       "      <th>echonest.242</th>\n",
       "      <th>echonest.243</th>\n",
       "      <th>echonest.244</th>\n",
       "      <th>echonest.245</th>\n",
       "      <th>echonest.246</th>\n",
       "      <th>echonest.247</th>\n",
       "      <th>echonest.248</th>\n",
       "    </tr>\n",
       "    <tr>\n",
       "      <th>Track number</th>\n",
       "      <th></th>\n",
       "      <th></th>\n",
       "      <th></th>\n",
       "      <th></th>\n",
       "      <th></th>\n",
       "      <th></th>\n",
       "      <th></th>\n",
       "      <th></th>\n",
       "      <th></th>\n",
       "      <th></th>\n",
       "      <th></th>\n",
       "      <th></th>\n",
       "      <th></th>\n",
       "      <th></th>\n",
       "      <th></th>\n",
       "      <th></th>\n",
       "      <th></th>\n",
       "      <th></th>\n",
       "      <th></th>\n",
       "      <th></th>\n",
       "      <th></th>\n",
       "    </tr>\n",
       "  </thead>\n",
       "  <tbody>\n",
       "    <tr>\n",
       "      <th>2</th>\n",
       "      <td>0.4166752327</td>\n",
       "      <td>0.6758939853</td>\n",
       "      <td>0.6344762684</td>\n",
       "      <td>0.0106280683</td>\n",
       "      <td>0.1776465712</td>\n",
       "      <td>0.1593100648</td>\n",
       "      <td>165.9220000000</td>\n",
       "      <td>0.5766609880</td>\n",
       "      <td>0.3889898648</td>\n",
       "      <td>0.3867400000</td>\n",
       "      <td>...</td>\n",
       "      <td>-1.9923025370</td>\n",
       "      <td>6.8056936264</td>\n",
       "      <td>0.2330697626</td>\n",
       "      <td>0.1928800046</td>\n",
       "      <td>0.0274549890</td>\n",
       "      <td>0.0640799999</td>\n",
       "      <td>3.6769599915</td>\n",
       "      <td>3.6128799915</td>\n",
       "      <td>13.3166904449</td>\n",
       "      <td>262.9297485352</td>\n",
       "    </tr>\n",
       "    <tr>\n",
       "      <th>3</th>\n",
       "      <td>0.3744077685</td>\n",
       "      <td>0.5286430621</td>\n",
       "      <td>0.8174611317</td>\n",
       "      <td>0.0018511032</td>\n",
       "      <td>0.1058799438</td>\n",
       "      <td>0.4618181276</td>\n",
       "      <td>126.9570000000</td>\n",
       "      <td>0.2692402421</td>\n",
       "      <td>0.3889898648</td>\n",
       "      <td>0.3867400000</td>\n",
       "      <td>...</td>\n",
       "      <td>-1.5823311806</td>\n",
       "      <td>8.8893079758</td>\n",
       "      <td>0.2584637702</td>\n",
       "      <td>0.2209050059</td>\n",
       "      <td>0.0813684240</td>\n",
       "      <td>0.0641300008</td>\n",
       "      <td>6.0827698708</td>\n",
       "      <td>6.0186400414</td>\n",
       "      <td>16.6735477448</td>\n",
       "      <td>325.5810852051</td>\n",
       "    </tr>\n",
       "    <tr>\n",
       "      <th>5</th>\n",
       "      <td>0.0435668989</td>\n",
       "      <td>0.7455658702</td>\n",
       "      <td>0.7014699916</td>\n",
       "      <td>0.0006967990</td>\n",
       "      <td>0.3731433124</td>\n",
       "      <td>0.1245953419</td>\n",
       "      <td>100.2600000000</td>\n",
       "      <td>0.6216612236</td>\n",
       "      <td>0.3889898648</td>\n",
       "      <td>0.3867400000</td>\n",
       "      <td>...</td>\n",
       "      <td>-2.2883579731</td>\n",
       "      <td>11.5271091461</td>\n",
       "      <td>0.2568213642</td>\n",
       "      <td>0.2378199995</td>\n",
       "      <td>0.0601223968</td>\n",
       "      <td>0.0601399988</td>\n",
       "      <td>5.9264898300</td>\n",
       "      <td>5.8663496971</td>\n",
       "      <td>16.0138492584</td>\n",
       "      <td>356.7557373047</td>\n",
       "    </tr>\n",
       "    <tr>\n",
       "      <th>10</th>\n",
       "      <td>0.9516699648</td>\n",
       "      <td>0.6581786543</td>\n",
       "      <td>0.9245251615</td>\n",
       "      <td>0.9654270154</td>\n",
       "      <td>0.1154738842</td>\n",
       "      <td>0.0329852191</td>\n",
       "      <td>111.5620000000</td>\n",
       "      <td>0.9635898919</td>\n",
       "      <td>0.5573390067</td>\n",
       "      <td>0.6142720000</td>\n",
       "      <td>...</td>\n",
       "      <td>-3.6629877090</td>\n",
       "      <td>21.5082283020</td>\n",
       "      <td>0.2833518982</td>\n",
       "      <td>0.2670699954</td>\n",
       "      <td>0.1257044971</td>\n",
       "      <td>0.0808200017</td>\n",
       "      <td>8.4140100479</td>\n",
       "      <td>8.3331899643</td>\n",
       "      <td>21.3170642853</td>\n",
       "      <td>483.4038085938</td>\n",
       "    </tr>\n",
       "    <tr>\n",
       "      <th>134</th>\n",
       "      <td>0.4522173071</td>\n",
       "      <td>0.5132380502</td>\n",
       "      <td>0.5604099311</td>\n",
       "      <td>0.0194426943</td>\n",
       "      <td>0.0965666940</td>\n",
       "      <td>0.5255193792</td>\n",
       "      <td>114.2900000000</td>\n",
       "      <td>0.8940722715</td>\n",
       "      <td>0.3889898648</td>\n",
       "      <td>0.3867400000</td>\n",
       "      <td>...</td>\n",
       "      <td>-1.4526963234</td>\n",
       "      <td>2.3563981056</td>\n",
       "      <td>0.2346863896</td>\n",
       "      <td>0.1995500028</td>\n",
       "      <td>0.1493317783</td>\n",
       "      <td>0.0644000024</td>\n",
       "      <td>11.2670698166</td>\n",
       "      <td>11.2026700974</td>\n",
       "      <td>26.4541797638</td>\n",
       "      <td>751.1477050781</td>\n",
       "    </tr>\n",
       "  </tbody>\n",
       "</table>\n",
       "<p>5 rows × 237 columns</p>\n",
       "</div>"
      ],
      "text/plain": [
       "                  echonest    echonest.1    echonest.2    echonest.3  \\\n",
       "Track number                                                           \n",
       "2             0.4166752327  0.6758939853  0.6344762684  0.0106280683   \n",
       "3             0.3744077685  0.5286430621  0.8174611317  0.0018511032   \n",
       "5             0.0435668989  0.7455658702  0.7014699916  0.0006967990   \n",
       "10            0.9516699648  0.6581786543  0.9245251615  0.9654270154   \n",
       "134           0.4522173071  0.5132380502  0.5604099311  0.0194426943   \n",
       "\n",
       "                echonest.4    echonest.5      echonest.6    echonest.7  \\\n",
       "Track number                                                             \n",
       "2             0.1776465712  0.1593100648  165.9220000000  0.5766609880   \n",
       "3             0.1058799438  0.4618181276  126.9570000000  0.2692402421   \n",
       "5             0.3731433124  0.1245953419  100.2600000000  0.6216612236   \n",
       "10            0.1154738842  0.0329852191  111.5620000000  0.9635898919   \n",
       "134           0.0965666940  0.5255193792  114.2900000000  0.8940722715   \n",
       "\n",
       "               echonest.20   echonest.21       ...         echonest.239  \\\n",
       "Track number                                   ...                        \n",
       "2             0.3889898648  0.3867400000       ...        -1.9923025370   \n",
       "3             0.3889898648  0.3867400000       ...        -1.5823311806   \n",
       "5             0.3889898648  0.3867400000       ...        -2.2883579731   \n",
       "10            0.5573390067  0.6142720000       ...        -3.6629877090   \n",
       "134           0.3889898648  0.3867400000       ...        -1.4526963234   \n",
       "\n",
       "               echonest.240  echonest.241  echonest.242  echonest.243  \\\n",
       "Track number                                                            \n",
       "2              6.8056936264  0.2330697626  0.1928800046  0.0274549890   \n",
       "3              8.8893079758  0.2584637702  0.2209050059  0.0813684240   \n",
       "5             11.5271091461  0.2568213642  0.2378199995  0.0601223968   \n",
       "10            21.5082283020  0.2833518982  0.2670699954  0.1257044971   \n",
       "134            2.3563981056  0.2346863896  0.1995500028  0.1493317783   \n",
       "\n",
       "              echonest.244   echonest.245   echonest.246   echonest.247  \\\n",
       "Track number                                                              \n",
       "2             0.0640799999   3.6769599915   3.6128799915  13.3166904449   \n",
       "3             0.0641300008   6.0827698708   6.0186400414  16.6735477448   \n",
       "5             0.0601399988   5.9264898300   5.8663496971  16.0138492584   \n",
       "10            0.0808200017   8.4140100479   8.3331899643  21.3170642853   \n",
       "134           0.0644000024  11.2670698166  11.2026700974  26.4541797638   \n",
       "\n",
       "                echonest.248  \n",
       "Track number                  \n",
       "2             262.9297485352  \n",
       "3             325.5810852051  \n",
       "5             356.7557373047  \n",
       "10            483.4038085938  \n",
       "134           751.1477050781  \n",
       "\n",
       "[5 rows x 237 columns]"
      ]
     },
     "execution_count": 8,
     "metadata": {},
     "output_type": "execute_result"
    }
   ],
   "source": [
    "echonest = echonest[3:]\n",
    "echonest = echonest.drop(echonest.columns[9:21],axis=1);\n",
    "echonest = echonest.rename(columns={echonest.columns[0]: 'Track number'})\n",
    "echonest.index = echonest['Track number']\n",
    "echonest = echonest.drop(columns=['Track number'])\n",
    "echonest.head()"
   ]
  },
  {
   "cell_type": "code",
   "execution_count": 9,
   "metadata": {
    "scrolled": false
   },
   "outputs": [
    {
     "data": {
      "text/plain": [
       "(13129, 237)"
      ]
     },
     "execution_count": 9,
     "metadata": {},
     "output_type": "execute_result"
    }
   ],
   "source": [
    "echonest.shape"
   ]
  },
  {
   "cell_type": "markdown",
   "metadata": {},
   "source": [
    "# Get samples from 8 base genres\n",
    "- Additionally, create a dict that maps a track_id to it's top genre"
   ]
  },
  {
   "cell_type": "code",
   "execution_count": 101,
   "metadata": {},
   "outputs": [],
   "source": [
    "samples_to_obtain = 10000"
   ]
  },
  {
   "cell_type": "code",
   "execution_count": 102,
   "metadata": {},
   "outputs": [
    {
     "data": {
      "text/plain": [
       "(100, 237)"
      ]
     },
     "execution_count": 102,
     "metadata": {},
     "output_type": "execute_result"
    }
   ],
   "source": [
    "feature_space = pd.DataFrame(columns=echonest.columns)\n",
    "genre_of_track = dict()\n",
    "\n",
    "genre_map = tracks['track.8']\n",
    "top_level_genres = list(base_genres.index.values)\n",
    "num_samples = 1\n",
    "\n",
    "# Get samples whose genre is one of the 8 base genres\n",
    "for track_id, features in echonest.iterrows():\n",
    "    try:\n",
    "        track_genres = genre_map.loc[track_id]\n",
    "        for gen in track_genres:\n",
    "            if int(gen) in top_level_genres:\n",
    "                feature_space.loc[track_id] = features\n",
    "                genre_of_track[track_id] = int(gen)\n",
    "                num_samples += 1\n",
    "                break\n",
    "    except:\n",
    "        pass\n",
    "    \n",
    "    if num_samples > samples_to_obtain:\n",
    "        break\n",
    "\n",
    "# Dictionary, maps track_id to genre_id\n",
    "genre_of_track\n",
    "\n",
    "# DataFrame of features for each track\n",
    "feature_space.shape"
   ]
  },
  {
   "cell_type": "markdown",
   "metadata": {},
   "source": [
    "# Feature Selection: Variance Threshold\n",
    "- Remove features below a specified variance\n",
    "- Observe relationship between features retained and threshold"
   ]
  },
  {
   "cell_type": "code",
   "execution_count": 103,
   "metadata": {},
   "outputs": [],
   "source": [
    "from sklearn.feature_selection import VarianceThreshold"
   ]
  },
  {
   "cell_type": "code",
   "execution_count": 104,
   "metadata": {
    "scrolled": false
   },
   "outputs": [
    {
     "data": {
      "image/png": "[encoded data removed]",
      "text/plain": [
       "<Figure size 432x288 with 1 Axes>"
      ]
     },
     "metadata": {
      "needs_background": "light"
     },
     "output_type": "display_data"
    }
   ],
   "source": [
    "threshold = []\n",
    "num_features = []\n",
    "var_range = np.linspace(0, 200, 300)\n",
    "for var in var_range:\n",
    "    vt = VarianceThreshold(var)\n",
    "    selected = vt.fit_transform(feature_space)\n",
    "    num_features.append(len(selected[0]))\n",
    "    threshold.append(var)\n",
    "plt.plot(threshold, num_features)\n",
    "plt.title(f'Number of features vs. Variance Threshold, $n = {len(feature_space)}$')\n",
    "plt.xlabel('Variance Threshold')\n",
    "plt.ylabel('# features selected');"
   ]
  },
  {
   "cell_type": "markdown",
   "metadata": {},
   "source": [
    "# Feature Extraction: PCA\n",
    "- Use PCA to project features to 3D scatter plot"
   ]
  },
  {
   "cell_type": "code",
   "execution_count": 81,
   "metadata": {},
   "outputs": [],
   "source": [
    "from sklearn.decomposition import PCA\n",
    "from mpl_toolkits.mplot3d import Axes3D\n",
    "from sklearn.preprocessing import normalize"
   ]
  },
  {
   "cell_type": "code",
   "execution_count": 82,
   "metadata": {},
   "outputs": [
    {
     "data": {
      "image/png": "[encoded data removed]",
      "text/plain": [
       "<Figure size 432x288 with 1 Axes>"
      ]
     },
     "metadata": {
      "needs_background": "light"
     },
     "output_type": "display_data"
    }
   ],
   "source": [
    "pca = PCA(n_components=3)\n",
    "pca_data = pca.fit_transform(normalize(feature_space))\n",
    "\n",
    "fig = plt.figure()\n",
    "ax = plt.axes(projection='3d')\n",
    "\n",
    "genre_color_map = {\n",
    "    38: 'b',\n",
    "    15: 'g',\n",
    "    12: 'r',\n",
    "    1235: 'c',\n",
    "    10: 'm',\n",
    "    17: 'y',\n",
    "    21: 'k',\n",
    "    2: 'w'\n",
    "}\n",
    "\n",
    "X=[]\n",
    "Y=[]\n",
    "Z=[]\n",
    "colors=[]\n",
    "for index, sample in enumerate(pca_data):\n",
    "    # Add info to appropriate lists\n",
    "    X.append(sample[0])\n",
    "    Y.append(sample[1])\n",
    "    Z.append(sample[2])\n",
    "    \n",
    "    gen = genre_of_track[feature_space.index.values[index]]\n",
    "    colors.append(genre_color_map[gen])\n",
    "\n",
    "ax.scatter(X,Y,Z, c=colors, alpha=0.5)\n",
    "    \n",
    "# Optionally project plot onto each axis, only useful for n < 10\n",
    "# ax.scatter(X, Z, marker='>', c=colors, zdir='y')\n",
    "# ax.scatter(Y, Z, marker='^', c=colors, zdir='x')\n",
    "# ax.scatter(X, Y, marker='<', c=colors, zdir='z')\n",
    "    \n",
    "ax.set_title(f'PCA for feature space, $n = {len(feature_space)}$')\n",
    "ax.set_xlabel('$x$')\n",
    "ax.set_ylabel('$y$')\n",
    "ax.set_zlabel('$z$');"
   ]
  },
  {
   "cell_type": "markdown",
   "metadata": {},
   "source": [
    "# Feature Extraction: LDA"
   ]
  },
  {
   "cell_type": "code",
   "execution_count": 83,
   "metadata": {},
   "outputs": [],
   "source": [
    "from sklearn.discriminant_analysis import LinearDiscriminantAnalysis as LDA"
   ]
  },
  {
   "cell_type": "code",
   "execution_count": 84,
   "metadata": {},
   "outputs": [
    {
     "name": "stderr",
     "output_type": "stream",
     "text": [
      "C:\\Users\\Kevin\\Anaconda3\\lib\\site-packages\\sklearn\\discriminant_analysis.py:388: UserWarning: Variables are collinear.\n",
      "  warnings.warn(\"Variables are collinear.\")\n"
     ]
    },
    {
     "data": {
      "image/png": "[encoded data removed]",
      "text/plain": [
       "<Figure size 432x288 with 1 Axes>"
      ]
     },
     "metadata": {
      "needs_background": "light"
     },
     "output_type": "display_data"
    }
   ],
   "source": [
    "# Class/genre labels for each sample\n",
    "track_genres = []\n",
    "for track_id in list(feature_space.index.values):\n",
    "    track_genres.append(genre_of_track[track_id])\n",
    "\n",
    "lda = LDA(n_components=3)\n",
    "lda_data = lda.fit_transform(feature_space, track_genres)\n",
    "\n",
    "fig = plt.figure()\n",
    "ax = plt.axes(projection='3d')\n",
    "\n",
    "X=[]\n",
    "Y=[]\n",
    "Z=[]\n",
    "colors=[]\n",
    "for index, sample in enumerate(lda_data):\n",
    "    # Add info to appropriate lists\n",
    "    X.append(sample[0])\n",
    "    Y.append(sample[1])\n",
    "    Z.append(sample[2])\n",
    "    gen = genre_of_track[feature_space.index.values[index]]\n",
    "    colors.append(genre_color_map[gen])\n",
    "\n",
    "ax.scatter(X,Y,Z, c=colors, alpha=0.5)\n",
    "ax.set_title(f'LDA for feature space, $n = {len(feature_space)}$')\n",
    "ax.set_xlabel('$x$')\n",
    "ax.set_ylabel('$y$')\n",
    "ax.set_zlabel('$z$');"
   ]
  },
  {
   "cell_type": "markdown",
   "metadata": {},
   "source": [
    "# LDA with SelectKBest\n",
    "- Select the k 'best' features from the feature space\n",
    "- Scale features space so features can never be negative\n",
    "- Perform LDA and plot results, compare to LDA without selection"
   ]
  },
  {
   "cell_type": "code",
   "execution_count": 85,
   "metadata": {},
   "outputs": [],
   "source": [
    "from sklearn.feature_selection import SelectKBest, chi2\n",
    "from sklearn.preprocessing import MinMaxScaler"
   ]
  },
  {
   "cell_type": "markdown",
   "metadata": {},
   "source": [
    "Specify value of $d$, number of features for each sample"
   ]
  },
  {
   "cell_type": "code",
   "execution_count": 106,
   "metadata": {},
   "outputs": [],
   "source": [
    "# Max value is 237\n",
    "dimensions = 200"
   ]
  },
  {
   "cell_type": "code",
   "execution_count": 107,
   "metadata": {},
   "outputs": [
    {
     "name": "stderr",
     "output_type": "stream",
     "text": [
      "C:\\Users\\Kevin\\Anaconda3\\lib\\site-packages\\sklearn\\preprocessing\\data.py:323: DataConversionWarning: Data with input dtype object were all converted to float64 by MinMaxScaler.\n",
      "  return self.partial_fit(X, y)\n",
      "C:\\Users\\Kevin\\Anaconda3\\lib\\site-packages\\sklearn\\discriminant_analysis.py:388: UserWarning: Variables are collinear.\n",
      "  warnings.warn(\"Variables are collinear.\")\n"
     ]
    },
    {
     "data": {
      "image/png": "[encoded data removed]",
      "text/plain": [
       "<Figure size 432x288 with 1 Axes>"
      ]
     },
     "metadata": {
      "needs_background": "light"
     },
     "output_type": "display_data"
    }
   ],
   "source": [
    "# Class/genre labels for each sample\n",
    "track_genres = []\n",
    "for track_id in list(feature_space.index.values):\n",
    "    track_genres.append(genre_of_track[track_id])\n",
    "    \n",
    "# Scale so inputs to .fit() functions are not negative\n",
    "min_max_scaler = MinMaxScaler(feature_range=(0,5))\n",
    "scaled_feature_space = min_max_scaler.fit_transform(feature_space)\n",
    "\n",
    "# K Best feature selection\n",
    "kbest_features = SelectKBest(chi2, k=dimensions).fit_transform(scaled_feature_space, track_genres)\n",
    "\n",
    "# Now use LDA to show effect of selection\n",
    "# Include kbest_features to apply selection to LDA\n",
    "lda = LDA(n_components=3)\n",
    "lda_data = lda.fit_transform(kbest_features, track_genres)\n",
    "\n",
    "fig = plt.figure()\n",
    "ax = plt.axes(projection='3d')\n",
    "\n",
    "X=[]\n",
    "Y=[]\n",
    "Z=[]\n",
    "colors=[]\n",
    "for index, sample in enumerate(lda_data):\n",
    "    # Add info to appropriate lists\n",
    "    X.append(sample[0])\n",
    "    Y.append(sample[1])\n",
    "    Z.append(sample[2])\n",
    "    gen = genre_of_track[feature_space.index.values[index]]\n",
    "    colors.append(genre_color_map[gen])\n",
    "\n",
    "ax.scatter(X,Y,Z, c=colors, alpha=0.5)\n",
    "ax.set_title(f'LDA on {dimensions} Best Features from KBest, $n = {len(feature_space)}$')\n",
    "ax.set_xlabel('$x$')\n",
    "ax.set_ylabel('$y$')\n",
    "ax.set_zlabel('$z$')\n",
    "\n",
    "# Use for this and subsequent classifiers to group samples with their class\n",
    "samples_with_labels = [(lda_data[i], track_genres[i]) for i in range(len(track_genres))]"
   ]
  },
  {
   "cell_type": "markdown",
   "metadata": {},
   "source": [
    "# Bayesian Classification: MLE"
   ]
  },
  {
   "cell_type": "code",
   "execution_count": 72,
   "metadata": {},
   "outputs": [],
   "source": [
    "from scipy.stats import multivariate_normal as mvn\n",
    "from sklearn.model_selection import train_test_split\n",
    "from sklearn.covariance import EmpiricalCovariance"
   ]
  },
  {
   "cell_type": "code",
   "execution_count": 73,
   "metadata": {},
   "outputs": [],
   "source": [
    "def compute_mean(data, num_features):\n",
    "    total = np.zeros(num_features, dtype=int)\n",
    "    for sample in data:\n",
    "        total = np.add(total, sample)\n",
    "    return total/(len(data))"
   ]
  },
  {
   "cell_type": "code",
   "execution_count": 74,
   "metadata": {},
   "outputs": [],
   "source": [
    "def compute_cov(data, num_features, mean):\n",
    "    total = np.zeros((num_features,num_features), dtype=int)\n",
    "    for sample in data:\n",
    "        term1=np.subtract([sample], [mean])\n",
    "        term2=np.subtract([sample], [mean]).transpose()\n",
    "        mult=np.multiply(term1, term2)\n",
    "        total=np.add(total, mult)\n",
    "    return total/(len(data)-1)"
   ]
  },
  {
   "cell_type": "code",
   "execution_count": 105,
   "metadata": {
    "scrolled": true
   },
   "outputs": [
    {
     "ename": "ValueError",
     "evalue": "operands could not be broadcast together with shapes (50,) (3,) ",
     "output_type": "error",
     "traceback": [
      "\u001b[1;31m---------------------------------------------------------------------------\u001b[0m",
      "\u001b[1;31mValueError\u001b[0m                                Traceback (most recent call last)",
      "\u001b[1;32m<ipython-input-105-4659d077197e>\u001b[0m in \u001b[0;36m<module>\u001b[1;34m\u001b[0m\n\u001b[0;32m     15\u001b[0m \u001b[1;33m\u001b[0m\u001b[0m\n\u001b[0;32m     16\u001b[0m \u001b[1;32mfor\u001b[0m \u001b[0mgenre_id\u001b[0m\u001b[1;33m,\u001b[0m \u001b[0msamples\u001b[0m \u001b[1;32min\u001b[0m \u001b[0mtrain_dict\u001b[0m\u001b[1;33m.\u001b[0m\u001b[0mitems\u001b[0m\u001b[1;33m(\u001b[0m\u001b[1;33m)\u001b[0m\u001b[1;33m:\u001b[0m\u001b[1;33m\u001b[0m\u001b[1;33m\u001b[0m\u001b[0m\n\u001b[1;32m---> 17\u001b[1;33m     \u001b[0mmu_i\u001b[0m \u001b[1;33m=\u001b[0m \u001b[0mcompute_mean\u001b[0m\u001b[1;33m(\u001b[0m\u001b[0msamples\u001b[0m\u001b[1;33m,\u001b[0m \u001b[0mdimensions\u001b[0m\u001b[1;33m)\u001b[0m\u001b[1;33m\u001b[0m\u001b[1;33m\u001b[0m\u001b[0m\n\u001b[0m\u001b[0;32m     18\u001b[0m     \u001b[0msigma_i\u001b[0m \u001b[1;33m=\u001b[0m \u001b[0mcompute_cov\u001b[0m\u001b[1;33m(\u001b[0m\u001b[0msamples\u001b[0m\u001b[1;33m,\u001b[0m \u001b[0mdimensions\u001b[0m\u001b[1;33m,\u001b[0m \u001b[0mmu_i\u001b[0m\u001b[1;33m)\u001b[0m\u001b[1;33m\u001b[0m\u001b[1;33m\u001b[0m\u001b[0m\n\u001b[0;32m     19\u001b[0m     \u001b[0msigma\u001b[0m\u001b[1;33m.\u001b[0m\u001b[0mappend\u001b[0m\u001b[1;33m(\u001b[0m\u001b[0msigma_i\u001b[0m\u001b[1;33m)\u001b[0m\u001b[1;33m\u001b[0m\u001b[1;33m\u001b[0m\u001b[0m\n",
      "\u001b[1;32m<ipython-input-73-36d0ea7ee8ea>\u001b[0m in \u001b[0;36mcompute_mean\u001b[1;34m(data, num_features)\u001b[0m\n\u001b[0;32m      2\u001b[0m     \u001b[0mtotal\u001b[0m \u001b[1;33m=\u001b[0m \u001b[0mnp\u001b[0m\u001b[1;33m.\u001b[0m\u001b[0mzeros\u001b[0m\u001b[1;33m(\u001b[0m\u001b[0mnum_features\u001b[0m\u001b[1;33m,\u001b[0m \u001b[0mdtype\u001b[0m\u001b[1;33m=\u001b[0m\u001b[0mint\u001b[0m\u001b[1;33m)\u001b[0m\u001b[1;33m\u001b[0m\u001b[1;33m\u001b[0m\u001b[0m\n\u001b[0;32m      3\u001b[0m     \u001b[1;32mfor\u001b[0m \u001b[0msample\u001b[0m \u001b[1;32min\u001b[0m \u001b[0mdata\u001b[0m\u001b[1;33m:\u001b[0m\u001b[1;33m\u001b[0m\u001b[1;33m\u001b[0m\u001b[0m\n\u001b[1;32m----> 4\u001b[1;33m         \u001b[0mtotal\u001b[0m \u001b[1;33m=\u001b[0m \u001b[0mnp\u001b[0m\u001b[1;33m.\u001b[0m\u001b[0madd\u001b[0m\u001b[1;33m(\u001b[0m\u001b[0mtotal\u001b[0m\u001b[1;33m,\u001b[0m \u001b[0msample\u001b[0m\u001b[1;33m)\u001b[0m\u001b[1;33m\u001b[0m\u001b[1;33m\u001b[0m\u001b[0m\n\u001b[0m\u001b[0;32m      5\u001b[0m     \u001b[1;32mreturn\u001b[0m \u001b[0mtotal\u001b[0m\u001b[1;33m/\u001b[0m\u001b[1;33m(\u001b[0m\u001b[0mlen\u001b[0m\u001b[1;33m(\u001b[0m\u001b[0mdata\u001b[0m\u001b[1;33m)\u001b[0m\u001b[1;33m)\u001b[0m\u001b[1;33m\u001b[0m\u001b[1;33m\u001b[0m\u001b[0m\n",
      "\u001b[1;31mValueError\u001b[0m: operands could not be broadcast together with shapes (50,) (3,) "
     ]
    }
   ],
   "source": [
    "sigma = []\n",
    "mu = []\n",
    "train_dict = dict()\n",
    "\n",
    "train, test = train_test_split(samples_with_labels, test_size=0.25, shuffle=True)\n",
    "\n",
    "# \n",
    "# Train\n",
    "# \n",
    "\n",
    "for sample in train:\n",
    "    if sample[1] not in train_dict:\n",
    "        train_dict[sample[1]] = []\n",
    "    train_dict[sample[1]].append(sample[0])\n",
    "    \n",
    "for genre_id, samples in train_dict.items():\n",
    "    mu_i = compute_mean(samples, dimensions)\n",
    "    sigma_i = compute_cov(samples, dimensions, mu_i)\n",
    "    sigma.append(sigma_i)\n",
    "    mu.append(mu_i)\n",
    "\n",
    "# \n",
    "# Test\n",
    "# \n",
    "\n",
    "test_features = [i[0] for i in test]\n",
    "test_classes = [i[1] for i in test]\n",
    "\n",
    "# Initialize confusion matrix\n",
    "gen_list = []\n",
    "for g in list(base_genres.title):\n",
    "    gen_list.append(g[:3])\n",
    "\n",
    "confusion = pd.DataFrame(0, index=gen_list, columns=gen_list)\n",
    "confusion = confusion.rename_axis('Actual')\n",
    "confusion = confusion.rename_axis('Predicted',axis='columns')\n",
    "\n",
    "# Iterate over the testing set\n",
    "for testing_index in range(len(test_classes)):\n",
    "    features = test_features[testing_index]\n",
    "    true_class = test_classes[testing_index]\n",
    "    \n",
    "    # Calculate class conditional density of each class for each sample\n",
    "    class_cond = []\n",
    "    for class_index, mu_i in enumerate(mu):\n",
    "        sigma_i = sigma[class_index]\n",
    "        rv = mvn(mean=mu_i, cov=sigma_i, allow_singular=True)\n",
    "        class_cond.append(rv.pdf(features))\n",
    "    \n",
    "    # Add sample to confusion matrix\n",
    "    j = np.argmax(class_cond)\n",
    "    pred_class = list(train_dict.keys())[j]\n",
    "    true_genre = base_genres.loc[true_class].title[:3]\n",
    "    pred_genre = base_genres.loc[pred_class].title[:3]\n",
    "    confusion.loc[true_genre].loc[pred_genre] += 1\n",
    "        \n",
    "# Display results\n",
    "correct = sum(confusion.loc[i].loc[i] for i in gen_list)\n",
    "num_samples = len(test_features)\n",
    "print(f'Error rate: {(num_samples-correct)/num_samples*100}%')\n",
    "confusion"
   ]
  },
  {
   "cell_type": "markdown",
   "metadata": {},
   "source": [
    "# K-Nearest Neighbors"
   ]
  },
  {
   "cell_type": "code",
   "execution_count": null,
   "metadata": {},
   "outputs": [],
   "source": [
    "from sklearn.neighbors import KNeighborsClassifier\n",
    "from sklearn.model_selection import KFold\n",
    "from sklearn.metrics import confusion_matrix, accuracy_score"
   ]
  },
  {
   "cell_type": "code",
   "execution_count": null,
   "metadata": {
    "scrolled": false
   },
   "outputs": [],
   "source": [
    "k_range = range(2,200,2)\n",
    "err = []\n",
    "min_confusion_matrix = []\n",
    "min_error = 100.0\n",
    "for k in k_range:\n",
    "    kf = KFold(n_splits=10, shuffle=True)\n",
    "    folds = kf.split(samples_with_labels)\n",
    "\n",
    "    knn = KNeighborsClassifier(n_neighbors=k)\n",
    "    error_rate = []\n",
    "    for train, test in folds:\n",
    "        train_features = [samples_with_labels[i][0] for i in train]\n",
    "        train_classes = [samples_with_labels[i][1] for i in train]\n",
    "        test_features = [samples_with_labels[i][0] for i in test]\n",
    "        test_classes = [samples_with_labels[i][1] for i in test]\n",
    "\n",
    "        knn.fit(train_features, train_classes)\n",
    "\n",
    "        predicted = knn.predict(test_features)\n",
    "\n",
    "        cm = confusion_matrix(test_classes, predicted)\n",
    "        error = (1-accuracy_score(test_classes, predicted))*100\n",
    "        error_rate.append(error)\n",
    "        \n",
    "        if error < min_error:\n",
    "            min_error = error\n",
    "            min_confusion_matrix = [cm, k]\n",
    "        \n",
    "    error = np.mean(error_rate)\n",
    "    err.append(error)\n",
    "    # print(f'Error rate for {splits} folds, k = {k}: {error}%')\n",
    "plt.plot(k_range, err)\n",
    "plt.title(f'k-NN error rate vs. k, $n = {len(track_genres)}$')\n",
    "plt.xlabel('k')\n",
    "plt.ylabel('Error rate, %');\n",
    "\n",
    "print(f'Minimum classification error occured when k = {min_confusion_matrix[1]}\\n')\n",
    "print(f'Error rate: {np.mean(error_rate)}%\\n')\n",
    "print(f'Confusion Matrix:\\n{min_confusion_matrix[0]}\\n')\n",
    "print(f'Variance: {np.var(error_rate)}')\n",
    "print(f'Standard deviation: {np.std(error_rate)}')"
   ]
  },
  {
   "cell_type": "markdown",
   "metadata": {},
   "source": [
    "# Multi Layer Perceptron"
   ]
  },
  {
   "cell_type": "code",
   "execution_count": null,
   "metadata": {},
   "outputs": [],
   "source": [
    "from sklearn.model_selection import KFold, train_test_split\n",
    "from sklearn.neural_network import MLPClassifier\n",
    "import scipy.stats"
   ]
  },
  {
   "cell_type": "code",
   "execution_count": null,
   "metadata": {},
   "outputs": [],
   "source": [
    "samples_with_labels;\n",
    "\n",
    "kf = KFold(n_splits=10, shuffle=True)\n",
    "folds = kf.split(samples_with_labels)\n",
    "\n",
    "error_rate = []\n",
    "\n",
    "for index, splits in enumerate(folds):\n",
    "    train, test = splits\n",
    "    train_features = [samples_with_labels[i][0] for i in train]\n",
    "    train_classes = [samples_with_labels[i][1] for i in train]\n",
    "    test_features = [samples_with_labels[i][0] for i in test]\n",
    "    test_classes = [samples_with_labels[i][1] for i in test]\n",
    "    \n",
    "    # set 15% of training data for validation\n",
    "    mlp = MLPClassifier(max_iter = 500, early_stopping=True, validation_fraction=0.15)\n",
    "    mlp.fit(train_features, train_classes)\n",
    "\n",
    "    predicted = mlp.predict(test_features)\n",
    "\n",
    "    cm = confusion_matrix(test_classes, predicted)\n",
    "    error = (1-accuracy_score(test_classes, predicted))*100\n",
    "    error_rate.append(error)\n",
    "    \n",
    "print(f'Average error rate: {np.mean(error_rate)}%')\n",
    "print(f'Variance: {np.var(error_rate)}')\n",
    "print(f'Standard deviation: {np.std(error_rate)}')\n",
    "\n",
    "# Use this in other estimation techniques\n",
    "samples_with_labels;"
   ]
  },
  {
   "cell_type": "markdown",
   "metadata": {},
   "source": [
    "# SVM"
   ]
  },
  {
   "cell_type": "code",
   "execution_count": null,
   "metadata": {},
   "outputs": [],
   "source": []
  }
 ],
 "metadata": {
  "kernelspec": {
   "display_name": "Python 3",
   "language": "python",
   "name": "python3"
  },
  "language_info": {
   "codemirror_mode": {
    "name": "ipython",
    "version": 3
   },
   "file_extension": ".py",
   "mimetype": "text/x-python",
   "name": "python",
   "nbconvert_exporter": "python",
   "pygments_lexer": "ipython3",
   "version": "3.7.1"
  }
 },
 "nbformat": 4,
 "nbformat_minor": 2
}
